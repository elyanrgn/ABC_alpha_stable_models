{
 "cells": [
  {
   "cell_type": "code",
   "execution_count": 1,
   "id": "5a00c4fe",
   "metadata": {},
   "outputs": [],
   "source": [
    "import numpy as np\n",
    "from helpers import *"
   ]
  },
  {
   "cell_type": "code",
   "execution_count": 2,
   "id": "2952768a",
   "metadata": {},
   "outputs": [],
   "source": [
    "def S1(x,gamma):\n",
    "    \"\"\"\n",
    "    Calcule l’estimateur de McCulloch (ou un vecteur de 4 nombres)\n",
    "    qui correspondent aux estimations de (alpha, beta, gamma, delta) à partir de x.\n",
    "    \"\"\"\n",
    "    # Chercher l'estimateur de McCulloch pour alpha, beta, gamma, delta\n",
    "    # (voir le papier de McCulloch, 1986)\n",
    "    q = np.quantile(x, [0.05, 0.25, 0.5, 0.75, 0.95])\n",
    "    alpha_hat = (q[4]-q[0])/(q[3]-q[1])\n",
    "    beta_hat = (q[4]+q[0]-2*q[2])/(q[4]-q[0])\n",
    "    gamma_hat = (q[3]-q[1])/gamma\n",
    "    delta_hat = np.mean(x)\n",
    "    return np.array([alpha_hat, beta_hat, gamma_hat, delta_hat])"
   ]
  },
  {
   "cell_type": "markdown",
   "id": "7871d9e7",
   "metadata": {},
   "source": [
    "ABC- reject"
   ]
  },
  {
   "cell_type": "code",
   "execution_count": 3,
   "id": "551ba531",
   "metadata": {},
   "outputs": [],
   "source": [
    "def prior_sample(n_samples):\n",
    "    \"\"\"\n",
    "    Tire n_samples vecteurs theta selon la loi a priori.\n",
    "    Chaque theta est un vecteur (alpha, beta, gamma, delta) avec :\n",
    "        - alpha ~ Uniform(1.1, 2)\n",
    "        - beta ~ Uniform(-1, 1)\n",
    "        - gamma ~ Lognormal(0, 0.1)\n",
    "        - delta ~ Normal(0, 1.5)\n",
    "    \n",
    "    Retourne un tableau numpy de forme (n_samples, 4).\n",
    "    \"\"\"\n",
    "    alpha = np.random.uniform(1.1, 2.0, size=n_samples)\n",
    "    beta  = np.random.uniform(-1.0, 1.0, size=n_samples)\n",
    "    gamma = np.random.lognormal(mean=0, sigma=0.1, size=n_samples)\n",
    "    delta = np.random.normal(loc=0.0, scale=1.5, size=n_samples)\n",
    "\n",
    "    return np.stack((alpha, beta, gamma, delta), axis=1)\n",
    "\n",
    "def dist(s_sim, s_obs):\n",
    "    \"\"\"  L2 norm\"\"\"\n",
    "    return np.linalg.norm(s_sim - s_obs, ord=2)\n",
    "\n",
    "def newstat(statistic, x, gamma = 1):\n",
    "    if statistic == \"s1\":\n",
    "        return S1(x, gamma)\n",
    "    else:\n",
    "        return stat(statistic, x)\n",
    "\n",
    "def abc_rejection(y_obs, N, n_sim, epsilon, statistic,gamma= 1):\n",
    "    \"\"\"\n",
    "    y_obs: données observées\n",
    "    N: nombre de tirages de la prior à considérer\n",
    "    n_sim: taille de l'échantillon simulé pour chaque theta\n",
    "    epsilon: seuil ABC\n",
    "\n",
    "    Sortie: liste (ou np.array) des theta acceptés\n",
    "    \"\"\"\n",
    "\n",
    "    # 1) Calculer la statistique résumée pour les données observées\n",
    "    s_obs = newstat(statistic,y_obs, gamma=gamma)\n",
    "\n",
    "    # 2) Échantillonner N valeurs de theta selon la prior\n",
    "    thetas = prior_sample(N)\n",
    "\n",
    "    # Tableau pour stocker les thetas acceptés\n",
    "    accepted_thetas = []\n",
    "\n",
    "    for i in range(N):\n",
    "        theta_i = thetas[i]\n",
    "        # 3) Simuler un échantillon x_i\n",
    "        x_i = simulation_alpha_stable_rqmc(theta_i[0],theta_i[1], theta_i[2], theta_i[3], n_sim)\n",
    "        # 4) Calculer la statistique résumée sur x_i\n",
    "        s_i = newstat(statistic,x_i, gamma=gamma)\n",
    "        # 5) Calculer la distance et comparer à epsilon\n",
    "        dista = dist(s_i, s_obs)\n",
    "        if dista < epsilon:\n",
    "            accepted_thetas.append(theta_i)\n",
    "\n",
    "    return np.array(accepted_thetas)\n"
   ]
  },
  {
   "cell_type": "markdown",
   "id": "139301ee",
   "metadata": {},
   "source": [
    "Tests"
   ]
  },
  {
   "cell_type": "code",
   "execution_count": 4,
   "id": "cfb84672",
   "metadata": {},
   "outputs": [],
   "source": [
    "alpha = 1.7\n",
    "beta = 0.5\n",
    "gamma = 1.0\n",
    "delta = 0.0\n",
    "np.random.seed(1234)#just to reproduce same results (aligned with our report)\n",
    "y_obs=simulation_alpha_stable_rqmc(alpha, beta, gamma, delta, n=4096)"
   ]
  },
  {
   "cell_type": "code",
   "execution_count": null,
   "id": "0fa5d48d",
   "metadata": {},
   "outputs": [
    {
     "name": "stderr",
     "output_type": "stream",
     "text": [
      "/home/victorien/.local/lib/python3.11/site-packages/scipy/stats/_qmc.py:804: UserWarning: The balance properties of Sobol' points require n to be a power of 2.\n",
      "  sample = self._random(n, workers=workers)\n"
     ]
    }
   ],
   "source": [
    "#s3-----------------------\n",
    "theta_s3= abc_rejection(y_obs,4096, 1000, 1,\"s1\", gamma=gamma)\n",
    "print(100*len(theta_s3/1000),\"% accepted for s2\")"
   ]
  }
 ],
 "metadata": {
  "kernelspec": {
   "display_name": "Python 3",
   "language": "python",
   "name": "python3"
  },
  "language_info": {
   "codemirror_mode": {
    "name": "ipython",
    "version": 3
   },
   "file_extension": ".py",
   "mimetype": "text/x-python",
   "name": "python",
   "nbconvert_exporter": "python",
   "pygments_lexer": "ipython3",
   "version": "3.11.2"
  }
 },
 "nbformat": 4,
 "nbformat_minor": 5
}
